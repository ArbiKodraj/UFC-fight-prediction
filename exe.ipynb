{
 "cells": [
  {
   "cell_type": "markdown",
   "metadata": {},
   "source": [
    "---\n",
    "## Crawling UFC Data "
   ]
  },
  {
   "cell_type": "code",
   "execution_count": 1,
   "metadata": {},
   "outputs": [],
   "source": [
    "from src.data_crawler.crawler import StatsCrawler\n",
    "from src.data_crawler.crawler import FightsCrawler"
   ]
  },
  {
   "cell_type": "markdown",
   "metadata": {},
   "source": [
    "### Crawling Stats of all UFC Fighters"
   ]
  },
  {
   "cell_type": "code",
   "execution_count": 2,
   "metadata": {},
   "outputs": [],
   "source": [
    "stats = StatsCrawler()"
   ]
  },
  {
   "cell_type": "code",
   "execution_count": 3,
   "metadata": {},
   "outputs": [],
   "source": [
    "stats.crawl_stats()"
   ]
  },
  {
   "cell_type": "code",
   "execution_count": 4,
   "metadata": {},
   "outputs": [],
   "source": [
    "stats_df = stats.return_stats()\n",
    "stats_df.to_csv(\"src/data/stats_fighters.csv\")"
   ]
  },
  {
   "cell_type": "code",
   "execution_count": 5,
   "metadata": {},
   "outputs": [
    {
     "data": {
      "text/html": [
       "<div>\n",
       "<style scoped>\n",
       "    .dataframe tbody tr th:only-of-type {\n",
       "        vertical-align: middle;\n",
       "    }\n",
       "\n",
       "    .dataframe tbody tr th {\n",
       "        vertical-align: top;\n",
       "    }\n",
       "\n",
       "    .dataframe thead th {\n",
       "        text-align: right;\n",
       "    }\n",
       "</style>\n",
       "<table border=\"1\" class=\"dataframe\">\n",
       "  <thead>\n",
       "    <tr style=\"text-align: right;\">\n",
       "      <th></th>\n",
       "      <th>Name</th>\n",
       "      <th>Record</th>\n",
       "      <th>Wins</th>\n",
       "      <th>Losses</th>\n",
       "      <th>Draws</th>\n",
       "      <th>Height_cm</th>\n",
       "      <th>Weight_lbs</th>\n",
       "      <th>Reach_inch</th>\n",
       "      <th>Stance</th>\n",
       "      <th>Debut</th>\n",
       "      <th>SLpM</th>\n",
       "      <th>StrAcc</th>\n",
       "      <th>SApM</th>\n",
       "      <th>StrDef</th>\n",
       "      <th>TD_Avg</th>\n",
       "      <th>TD_Acc</th>\n",
       "      <th>TD_Def</th>\n",
       "      <th>Sub_Avg</th>\n",
       "    </tr>\n",
       "  </thead>\n",
       "  <tbody>\n",
       "    <tr>\n",
       "      <th>0</th>\n",
       "      <td>Maki Pitolo</td>\n",
       "      <td>Record: 13-8-0</td>\n",
       "      <td>13.0</td>\n",
       "      <td>8.0</td>\n",
       "      <td>0.0</td>\n",
       "      <td>177.802162</td>\n",
       "      <td>185.0</td>\n",
       "      <td>75.0</td>\n",
       "      <td>Orthodox</td>\n",
       "      <td>1990.0</td>\n",
       "      <td>4.20</td>\n",
       "      <td>0.44</td>\n",
       "      <td>3.71</td>\n",
       "      <td>0.56</td>\n",
       "      <td>2.42</td>\n",
       "      <td>0.52</td>\n",
       "      <td>0.55</td>\n",
       "      <td>0.5</td>\n",
       "    </tr>\n",
       "    <tr>\n",
       "      <th>1</th>\n",
       "      <td>Marc-Andre Barriault</td>\n",
       "      <td>Record: 12-4-0 (1 NC)</td>\n",
       "      <td>12.0</td>\n",
       "      <td>4.0</td>\n",
       "      <td>0.0</td>\n",
       "      <td>185.422255</td>\n",
       "      <td>185.0</td>\n",
       "      <td>74.0</td>\n",
       "      <td>Orthodox</td>\n",
       "      <td>1990.0</td>\n",
       "      <td>5.36</td>\n",
       "      <td>0.48</td>\n",
       "      <td>4.79</td>\n",
       "      <td>0.55</td>\n",
       "      <td>0.43</td>\n",
       "      <td>0.25</td>\n",
       "      <td>0.72</td>\n",
       "      <td>0.0</td>\n",
       "    </tr>\n",
       "    <tr>\n",
       "      <th>2</th>\n",
       "      <td>Dan Lauzon</td>\n",
       "      <td>Record: 17-6-0</td>\n",
       "      <td>17.0</td>\n",
       "      <td>6.0</td>\n",
       "      <td>0.0</td>\n",
       "      <td>177.802162</td>\n",
       "      <td>155.0</td>\n",
       "      <td>NaN</td>\n",
       "      <td>Orthodox</td>\n",
       "      <td>1988.0</td>\n",
       "      <td>1.34</td>\n",
       "      <td>0.25</td>\n",
       "      <td>4.09</td>\n",
       "      <td>0.61</td>\n",
       "      <td>1.63</td>\n",
       "      <td>0.33</td>\n",
       "      <td>0.80</td>\n",
       "      <td>2.7</td>\n",
       "    </tr>\n",
       "    <tr>\n",
       "      <th>3</th>\n",
       "      <td>Junior Dos Santos</td>\n",
       "      <td>Record: 21-9-0</td>\n",
       "      <td>21.0</td>\n",
       "      <td>9.0</td>\n",
       "      <td>0.0</td>\n",
       "      <td>193.042347</td>\n",
       "      <td>238.0</td>\n",
       "      <td>77.0</td>\n",
       "      <td>Orthodox</td>\n",
       "      <td>1984.0</td>\n",
       "      <td>4.49</td>\n",
       "      <td>0.47</td>\n",
       "      <td>3.33</td>\n",
       "      <td>0.56</td>\n",
       "      <td>0.30</td>\n",
       "      <td>0.50</td>\n",
       "      <td>0.81</td>\n",
       "      <td>0.1</td>\n",
       "    </tr>\n",
       "    <tr>\n",
       "      <th>4</th>\n",
       "      <td>Sanghoon Yoo</td>\n",
       "      <td>Record: 5-1-0</td>\n",
       "      <td>5.0</td>\n",
       "      <td>1.0</td>\n",
       "      <td>0.0</td>\n",
       "      <td>182.882224</td>\n",
       "      <td>155.0</td>\n",
       "      <td>74.0</td>\n",
       "      <td>Orthodox</td>\n",
       "      <td>1990.0</td>\n",
       "      <td>5.00</td>\n",
       "      <td>0.66</td>\n",
       "      <td>7.27</td>\n",
       "      <td>0.27</td>\n",
       "      <td>1.00</td>\n",
       "      <td>1.00</td>\n",
       "      <td>0.75</td>\n",
       "      <td>1.0</td>\n",
       "    </tr>\n",
       "    <tr>\n",
       "      <th>...</th>\n",
       "      <td>...</td>\n",
       "      <td>...</td>\n",
       "      <td>...</td>\n",
       "      <td>...</td>\n",
       "      <td>...</td>\n",
       "      <td>...</td>\n",
       "      <td>...</td>\n",
       "      <td>...</td>\n",
       "      <td>...</td>\n",
       "      <td>...</td>\n",
       "      <td>...</td>\n",
       "      <td>...</td>\n",
       "      <td>...</td>\n",
       "      <td>...</td>\n",
       "      <td>...</td>\n",
       "      <td>...</td>\n",
       "      <td>...</td>\n",
       "      <td>...</td>\n",
       "    </tr>\n",
       "    <tr>\n",
       "      <th>2644</th>\n",
       "      <td>Dino Pezao</td>\n",
       "      <td>Record: 1-3-0</td>\n",
       "      <td>1.0</td>\n",
       "      <td>3.0</td>\n",
       "      <td>0.0</td>\n",
       "      <td>NaN</td>\n",
       "      <td>205.0</td>\n",
       "      <td>NaN</td>\n",
       "      <td>Orthodox</td>\n",
       "      <td>NaN</td>\n",
       "      <td>0.66</td>\n",
       "      <td>0.30</td>\n",
       "      <td>3.28</td>\n",
       "      <td>0.31</td>\n",
       "      <td>0.00</td>\n",
       "      <td>0.00</td>\n",
       "      <td>0.00</td>\n",
       "      <td>0.0</td>\n",
       "    </tr>\n",
       "    <tr>\n",
       "      <th>2645</th>\n",
       "      <td>Drew Dimanlig</td>\n",
       "      <td>Record: 3-4-0</td>\n",
       "      <td>3.0</td>\n",
       "      <td>4.0</td>\n",
       "      <td>0.0</td>\n",
       "      <td>NaN</td>\n",
       "      <td>185.0</td>\n",
       "      <td>NaN</td>\n",
       "      <td></td>\n",
       "      <td>NaN</td>\n",
       "      <td>3.70</td>\n",
       "      <td>0.73</td>\n",
       "      <td>3.17</td>\n",
       "      <td>0.20</td>\n",
       "      <td>0.00</td>\n",
       "      <td>0.00</td>\n",
       "      <td>0.00</td>\n",
       "      <td>0.0</td>\n",
       "    </tr>\n",
       "    <tr>\n",
       "      <th>2646</th>\n",
       "      <td>Pablo Villaseca</td>\n",
       "      <td>Record: 12-3-0</td>\n",
       "      <td>12.0</td>\n",
       "      <td>3.0</td>\n",
       "      <td>0.0</td>\n",
       "      <td>170.182069</td>\n",
       "      <td>155.0</td>\n",
       "      <td>NaN</td>\n",
       "      <td></td>\n",
       "      <td>1987.0</td>\n",
       "      <td>2.79</td>\n",
       "      <td>0.42</td>\n",
       "      <td>3.25</td>\n",
       "      <td>0.65</td>\n",
       "      <td>2.50</td>\n",
       "      <td>0.50</td>\n",
       "      <td>0.33</td>\n",
       "      <td>0.0</td>\n",
       "    </tr>\n",
       "    <tr>\n",
       "      <th>2647</th>\n",
       "      <td>Noe Hernandez</td>\n",
       "      <td>Record: 5-5-0</td>\n",
       "      <td>5.0</td>\n",
       "      <td>5.0</td>\n",
       "      <td>0.0</td>\n",
       "      <td>NaN</td>\n",
       "      <td>NaN</td>\n",
       "      <td>NaN</td>\n",
       "      <td>Orthodox</td>\n",
       "      <td>NaN</td>\n",
       "      <td>0.00</td>\n",
       "      <td>0.00</td>\n",
       "      <td>0.00</td>\n",
       "      <td>0.00</td>\n",
       "      <td>0.00</td>\n",
       "      <td>0.00</td>\n",
       "      <td>0.00</td>\n",
       "      <td>0.0</td>\n",
       "    </tr>\n",
       "    <tr>\n",
       "      <th>2648</th>\n",
       "      <td>Jason Lambert</td>\n",
       "      <td>Record: 26-13-0</td>\n",
       "      <td>26.0</td>\n",
       "      <td>13.0</td>\n",
       "      <td>0.0</td>\n",
       "      <td>190.502317</td>\n",
       "      <td>185.0</td>\n",
       "      <td>75.0</td>\n",
       "      <td>Orthodox</td>\n",
       "      <td>1975.0</td>\n",
       "      <td>3.21</td>\n",
       "      <td>0.58</td>\n",
       "      <td>1.84</td>\n",
       "      <td>0.50</td>\n",
       "      <td>1.35</td>\n",
       "      <td>0.36</td>\n",
       "      <td>0.28</td>\n",
       "      <td>2.4</td>\n",
       "    </tr>\n",
       "  </tbody>\n",
       "</table>\n",
       "<p>2649 rows × 18 columns</p>\n",
       "</div>"
      ],
      "text/plain": [
       "                      Name                 Record  Wins  Losses  Draws  \\\n",
       "0              Maki Pitolo         Record: 13-8-0  13.0     8.0    0.0   \n",
       "1     Marc-Andre Barriault  Record: 12-4-0 (1 NC)  12.0     4.0    0.0   \n",
       "2               Dan Lauzon         Record: 17-6-0  17.0     6.0    0.0   \n",
       "3        Junior Dos Santos         Record: 21-9-0  21.0     9.0    0.0   \n",
       "4             Sanghoon Yoo          Record: 5-1-0   5.0     1.0    0.0   \n",
       "...                    ...                    ...   ...     ...    ...   \n",
       "2644            Dino Pezao          Record: 1-3-0   1.0     3.0    0.0   \n",
       "2645         Drew Dimanlig          Record: 3-4-0   3.0     4.0    0.0   \n",
       "2646       Pablo Villaseca         Record: 12-3-0  12.0     3.0    0.0   \n",
       "2647         Noe Hernandez          Record: 5-5-0   5.0     5.0    0.0   \n",
       "2648         Jason Lambert        Record: 26-13-0  26.0    13.0    0.0   \n",
       "\n",
       "       Height_cm  Weight_lbs  Reach_inch    Stance   Debut  SLpM  StrAcc  \\\n",
       "0     177.802162       185.0        75.0  Orthodox  1990.0  4.20    0.44   \n",
       "1     185.422255       185.0        74.0  Orthodox  1990.0  5.36    0.48   \n",
       "2     177.802162       155.0         NaN  Orthodox  1988.0  1.34    0.25   \n",
       "3     193.042347       238.0        77.0  Orthodox  1984.0  4.49    0.47   \n",
       "4     182.882224       155.0        74.0  Orthodox  1990.0  5.00    0.66   \n",
       "...          ...         ...         ...       ...     ...   ...     ...   \n",
       "2644         NaN       205.0         NaN  Orthodox     NaN  0.66    0.30   \n",
       "2645         NaN       185.0         NaN               NaN  3.70    0.73   \n",
       "2646  170.182069       155.0         NaN            1987.0  2.79    0.42   \n",
       "2647         NaN         NaN         NaN  Orthodox     NaN  0.00    0.00   \n",
       "2648  190.502317       185.0        75.0  Orthodox  1975.0  3.21    0.58   \n",
       "\n",
       "      SApM  StrDef  TD_Avg  TD_Acc  TD_Def  Sub_Avg  \n",
       "0     3.71    0.56    2.42    0.52    0.55      0.5  \n",
       "1     4.79    0.55    0.43    0.25    0.72      0.0  \n",
       "2     4.09    0.61    1.63    0.33    0.80      2.7  \n",
       "3     3.33    0.56    0.30    0.50    0.81      0.1  \n",
       "4     7.27    0.27    1.00    1.00    0.75      1.0  \n",
       "...    ...     ...     ...     ...     ...      ...  \n",
       "2644  3.28    0.31    0.00    0.00    0.00      0.0  \n",
       "2645  3.17    0.20    0.00    0.00    0.00      0.0  \n",
       "2646  3.25    0.65    2.50    0.50    0.33      0.0  \n",
       "2647  0.00    0.00    0.00    0.00    0.00      0.0  \n",
       "2648  1.84    0.50    1.35    0.36    0.28      2.4  \n",
       "\n",
       "[2649 rows x 18 columns]"
      ]
     },
     "execution_count": 5,
     "metadata": {},
     "output_type": "execute_result"
    }
   ],
   "source": [
    "stats_df"
   ]
  },
  {
   "cell_type": "markdown",
   "metadata": {},
   "source": [
    "### Crawling Fights and corresponding results of all UFC Fighters"
   ]
  },
  {
   "cell_type": "code",
   "execution_count": 6,
   "metadata": {},
   "outputs": [],
   "source": [
    "fights = FightsCrawler()"
   ]
  },
  {
   "cell_type": "code",
   "execution_count": 8,
   "metadata": {},
   "outputs": [],
   "source": [
    "fights.crawl_fights()"
   ]
  },
  {
   "cell_type": "code",
   "execution_count": 9,
   "metadata": {},
   "outputs": [],
   "source": [
    "fights_df = fights.return_fights()\n",
    "fights_df.to_csv(\"src/data/fight_results.csv\")"
   ]
  },
  {
   "cell_type": "code",
   "execution_count": 10,
   "metadata": {},
   "outputs": [
    {
     "data": {
      "text/html": [
       "<div>\n",
       "<style scoped>\n",
       "    .dataframe tbody tr th:only-of-type {\n",
       "        vertical-align: middle;\n",
       "    }\n",
       "\n",
       "    .dataframe tbody tr th {\n",
       "        vertical-align: top;\n",
       "    }\n",
       "\n",
       "    .dataframe thead th {\n",
       "        text-align: right;\n",
       "    }\n",
       "</style>\n",
       "<table border=\"1\" class=\"dataframe\">\n",
       "  <thead>\n",
       "    <tr style=\"text-align: right;\">\n",
       "      <th></th>\n",
       "      <th>Fighter</th>\n",
       "      <th>Opponent</th>\n",
       "      <th>Result</th>\n",
       "      <th>Fighters_Win</th>\n",
       "      <th>Opponents_Win</th>\n",
       "    </tr>\n",
       "  </thead>\n",
       "  <tbody>\n",
       "    <tr>\n",
       "      <th>0</th>\n",
       "      <td>Maki Pitolo</td>\n",
       "      <td>Julian Marquez</td>\n",
       "      <td>loss</td>\n",
       "      <td>0</td>\n",
       "      <td>1</td>\n",
       "    </tr>\n",
       "    <tr>\n",
       "      <th>1</th>\n",
       "      <td>Maki Pitolo</td>\n",
       "      <td>Impa Kasanganay</td>\n",
       "      <td>loss</td>\n",
       "      <td>0</td>\n",
       "      <td>1</td>\n",
       "    </tr>\n",
       "    <tr>\n",
       "      <th>2</th>\n",
       "      <td>Maki Pitolo</td>\n",
       "      <td>Darren Stewart</td>\n",
       "      <td>loss</td>\n",
       "      <td>0</td>\n",
       "      <td>1</td>\n",
       "    </tr>\n",
       "    <tr>\n",
       "      <th>3</th>\n",
       "      <td>Maki Pitolo</td>\n",
       "      <td>Charles Byrd</td>\n",
       "      <td>win</td>\n",
       "      <td>1</td>\n",
       "      <td>0</td>\n",
       "    </tr>\n",
       "    <tr>\n",
       "      <th>4</th>\n",
       "      <td>Maki Pitolo</td>\n",
       "      <td>Callan Potter</td>\n",
       "      <td>loss</td>\n",
       "      <td>0</td>\n",
       "      <td>1</td>\n",
       "    </tr>\n",
       "    <tr>\n",
       "      <th>...</th>\n",
       "      <td>...</td>\n",
       "      <td>...</td>\n",
       "      <td>...</td>\n",
       "      <td>...</td>\n",
       "      <td>...</td>\n",
       "    </tr>\n",
       "    <tr>\n",
       "      <th>15305</th>\n",
       "      <td>Jason Lambert</td>\n",
       "      <td>Renato Sobral</td>\n",
       "      <td>win</td>\n",
       "      <td>1</td>\n",
       "      <td>0</td>\n",
       "    </tr>\n",
       "    <tr>\n",
       "      <th>15306</th>\n",
       "      <td>Jason Lambert</td>\n",
       "      <td>Rashad Evans</td>\n",
       "      <td>loss</td>\n",
       "      <td>0</td>\n",
       "      <td>1</td>\n",
       "    </tr>\n",
       "    <tr>\n",
       "      <th>15307</th>\n",
       "      <td>Jason Lambert</td>\n",
       "      <td>Branden Lee Hinkle</td>\n",
       "      <td>win</td>\n",
       "      <td>1</td>\n",
       "      <td>0</td>\n",
       "    </tr>\n",
       "    <tr>\n",
       "      <th>15308</th>\n",
       "      <td>Jason Lambert</td>\n",
       "      <td>Terry Martin</td>\n",
       "      <td>win</td>\n",
       "      <td>1</td>\n",
       "      <td>0</td>\n",
       "    </tr>\n",
       "    <tr>\n",
       "      <th>15309</th>\n",
       "      <td>Jason Lambert</td>\n",
       "      <td>Rob MacDonald</td>\n",
       "      <td>win</td>\n",
       "      <td>1</td>\n",
       "      <td>0</td>\n",
       "    </tr>\n",
       "  </tbody>\n",
       "</table>\n",
       "<p>15310 rows × 5 columns</p>\n",
       "</div>"
      ],
      "text/plain": [
       "             Fighter            Opponent Result  Fighters_Win  Opponents_Win\n",
       "0        Maki Pitolo      Julian Marquez   loss             0              1\n",
       "1        Maki Pitolo     Impa Kasanganay   loss             0              1\n",
       "2        Maki Pitolo      Darren Stewart   loss             0              1\n",
       "3        Maki Pitolo        Charles Byrd    win             1              0\n",
       "4        Maki Pitolo       Callan Potter   loss             0              1\n",
       "...              ...                 ...    ...           ...            ...\n",
       "15305  Jason Lambert       Renato Sobral    win             1              0\n",
       "15306  Jason Lambert        Rashad Evans   loss             0              1\n",
       "15307  Jason Lambert  Branden Lee Hinkle    win             1              0\n",
       "15308  Jason Lambert        Terry Martin    win             1              0\n",
       "15309  Jason Lambert       Rob MacDonald    win             1              0\n",
       "\n",
       "[15310 rows x 5 columns]"
      ]
     },
     "execution_count": 10,
     "metadata": {},
     "output_type": "execute_result"
    }
   ],
   "source": [
    "fights_df"
   ]
  },
  {
   "cell_type": "markdown",
   "metadata": {},
   "source": [
    "### Merging Data"
   ]
  },
  {
   "cell_type": "code",
   "execution_count": 11,
   "metadata": {},
   "outputs": [],
   "source": [
    "import pandas as pd"
   ]
  },
  {
   "cell_type": "code",
   "execution_count": 12,
   "metadata": {},
   "outputs": [],
   "source": [
    "stats_df = pd.read_csv(\"src/data/stats_fighters.csv\", index_col=0)\n",
    "fights_df = pd.read_csv(\"src/data/fight_results.csv\", index_col=0)"
   ]
  },
  {
   "cell_type": "code",
   "execution_count": 13,
   "metadata": {},
   "outputs": [],
   "source": [
    "stats_df_copy = stats_df.copy()\n",
    "fights_df_copy = fights_df.copy()\n",
    "\n",
    "stats_df_copy[\"Fighter\"] = stats_df_copy.Name"
   ]
  },
  {
   "cell_type": "code",
   "execution_count": 14,
   "metadata": {},
   "outputs": [],
   "source": [
    "pd.set_option(\"display.max_columns\", None)"
   ]
  },
  {
   "cell_type": "code",
   "execution_count": 15,
   "metadata": {},
   "outputs": [],
   "source": [
    "merged_df = pd.merge(fights_df_copy, stats_df_copy, on=[\"Fighter\"])"
   ]
  },
  {
   "cell_type": "code",
   "execution_count": 16,
   "metadata": {},
   "outputs": [],
   "source": [
    "stats_df_copy.drop(\"Fighter\", axis=1, inplace=True)\n",
    "stats_df_copy.rename(columns={\"Name\": \"Opponent\"}, inplace=True)\n",
    "merged_df.drop(\"Name\", axis=1, inplace=True)"
   ]
  },
  {
   "cell_type": "code",
   "execution_count": 17,
   "metadata": {},
   "outputs": [],
   "source": [
    "final_df = pd.merge(merged_df, stats_df_copy, on=[\"Opponent\"])\n",
    "final_df.drop([\"Record_x\", \"Record_y\"], axis=1, inplace=True)\n",
    "final_df.dropna(axis=0, inplace=True)"
   ]
  },
  {
   "cell_type": "code",
   "execution_count": 18,
   "metadata": {},
   "outputs": [],
   "source": [
    "def convert_stance(stance):\n",
    "\n",
    "    num_stance = []\n",
    "    for i in final_df.Stance_x:\n",
    "        if i == \"Southpaw\":\n",
    "            num_stance.append(0)\n",
    "        elif i == \"Orthodox\":\n",
    "            num_stance.append(1)\n",
    "        elif i == \"Switch\":\n",
    "            num_stance.append(2)\n",
    "        elif i == \"Open Stance\":\n",
    "            num_stance.append(3)\n",
    "        elif i == \"Sideways\":\n",
    "            num_stance.append(4)\n",
    "\n",
    "    return num_stance"
   ]
  },
  {
   "cell_type": "code",
   "execution_count": 19,
   "metadata": {},
   "outputs": [],
   "source": [
    "final_df[\"Stance_x_num\"] = convert_stance(final_df.Stance_x)\n",
    "final_df[\"Stance_y_num\"] = convert_stance(final_df.Stance_y)"
   ]
  },
  {
   "cell_type": "code",
   "execution_count": 20,
   "metadata": {},
   "outputs": [],
   "source": [
    "X = final_df[\n",
    "    [\n",
    "        \"Wins_x\",\n",
    "        \"Losses_x\",\n",
    "        \"Draws_x\",\n",
    "        \"Height_cm_x\",\n",
    "        \"Weight_lbs_x\",\n",
    "        \"Reach_inch_x\",\n",
    "        \"Debut_x\",\n",
    "        \"SLpM_x\",\n",
    "        \"StrAcc_x\",\n",
    "        \"SApM_x\",\n",
    "        \"StrDef_x\",\n",
    "        \"TD_Avg_x\",\n",
    "        \"TD_Acc_x\",\n",
    "        \"TD_Def_x\",\n",
    "        \"Sub_Avg_x\",\n",
    "        \"Stance_x_num\",\n",
    "        \"Wins_y\",\n",
    "        \"Losses_y\",\n",
    "        \"Draws_y\",\n",
    "        \"Height_cm_y\",\n",
    "        \"Weight_lbs_y\",\n",
    "        \"Reach_inch_y\",\n",
    "        \"Debut_y\",\n",
    "        \"SLpM_y\",\n",
    "        \"StrAcc_y\",\n",
    "        \"SApM_y\",\n",
    "        \"StrDef_y\",\n",
    "        \"TD_Avg_y\",\n",
    "        \"TD_Acc_y\",\n",
    "        \"TD_Def_y\",\n",
    "        \"Sub_Avg_y\",\n",
    "        \"Stance_y_num\",\n",
    "    ]\n",
    "]\n",
    "\n",
    "y = final_df[[\"Fighters_Win\"]]"
   ]
  },
  {
   "cell_type": "markdown",
   "metadata": {},
   "source": [
    "## Creating model and testing its accuracy"
   ]
  },
  {
   "cell_type": "code",
   "execution_count": 26,
   "metadata": {},
   "outputs": [],
   "source": [
    "from src.model.mlp_classifier import *\n",
    "from sklearn.metrics import classification_report"
   ]
  },
  {
   "cell_type": "code",
   "execution_count": 22,
   "metadata": {},
   "outputs": [],
   "source": [
    "X_stand = standardization(X)"
   ]
  },
  {
   "cell_type": "code",
   "execution_count": 23,
   "metadata": {},
   "outputs": [],
   "source": [
    "X_train, X_test, y_train, y_test = splitting_data(X_stand, y)"
   ]
  },
  {
   "cell_type": "code",
   "execution_count": 24,
   "metadata": {},
   "outputs": [],
   "source": [
    "prediction = return_prediction(X_train, y_train, X_test)"
   ]
  },
  {
   "cell_type": "code",
   "execution_count": 27,
   "metadata": {},
   "outputs": [
    {
     "name": "stdout",
     "output_type": "stream",
     "text": [
      "              precision    recall  f1-score   support\n",
      "\n",
      "          -1       0.00      0.00      0.00        16\n",
      "           0       0.67      0.71      0.69       750\n",
      "           1       0.69      0.67      0.68       741\n",
      "\n",
      "    accuracy                           0.68      1507\n",
      "   macro avg       0.45      0.46      0.46      1507\n",
      "weighted avg       0.67      0.68      0.68      1507\n",
      "\n"
     ]
    },
    {
     "name": "stderr",
     "output_type": "stream",
     "text": [
      "/Users/a_ko3/opt/anaconda3/lib/python3.7/site-packages/sklearn/metrics/_classification.py:1221: UndefinedMetricWarning: Precision and F-score are ill-defined and being set to 0.0 in labels with no predicted samples. Use `zero_division` parameter to control this behavior.\n",
      "  _warn_prf(average, modifier, msg_start, len(result))\n"
     ]
    }
   ],
   "source": [
    "print(classification_report(y_test, prediction))"
   ]
  },
  {
   "cell_type": "markdown",
   "metadata": {},
   "source": [
    "## Predict upcoming Event UFC 261 Main Event"
   ]
  },
  {
   "cell_type": "code",
   "execution_count": 28,
   "metadata": {},
   "outputs": [],
   "source": [
    "clf_all = prepare_model(X_stand, y)"
   ]
  },
  {
   "cell_type": "code",
   "execution_count": 29,
   "metadata": {},
   "outputs": [],
   "source": [
    "def choose_fighters(final_df):\n",
    "\n",
    "    #left = input(\"Favorite's full name (e.g. Israel Adesanya): \")\n",
    "    #right = input(\"Underdogs's full name: \")\n",
    "    # Uncomment left and right to use input function!\n",
    "\n",
    "    left = \"Kamaru Usman\"\n",
    "    right = \"Jorge Masvidal\"\n",
    "\n",
    "    favorite = final_df[final_df[\"Fighter\"] == left][\n",
    "        [\n",
    "            \"Wins_x\",\n",
    "            \"Losses_x\",\n",
    "            \"Draws_x\",\n",
    "            \"Height_cm_x\",\n",
    "            \"Weight_lbs_x\",\n",
    "            \"Reach_inch_x\",\n",
    "            \"Debut_x\",\n",
    "            \"SLpM_x\",\n",
    "            \"StrAcc_x\",\n",
    "            \"SApM_x\",\n",
    "            \"StrDef_x\",\n",
    "            \"TD_Avg_x\",\n",
    "            \"TD_Acc_x\",\n",
    "            \"TD_Def_x\",\n",
    "            \"Sub_Avg_x\",\n",
    "            \"Stance_x_num\",\n",
    "        ]\n",
    "    ].iloc[0, :]\n",
    "    underdog = final_df[final_df[\"Opponent\"] == right][\n",
    "        [\n",
    "            \"Wins_y\",\n",
    "            \"Losses_y\",\n",
    "            \"Draws_y\",\n",
    "            \"Height_cm_y\",\n",
    "            \"Weight_lbs_y\",\n",
    "            \"Reach_inch_y\",\n",
    "            \"Debut_y\",\n",
    "            \"SLpM_y\",\n",
    "            \"StrAcc_y\",\n",
    "            \"SApM_y\",\n",
    "            \"StrDef_y\",\n",
    "            \"TD_Avg_y\",\n",
    "            \"TD_Acc_y\",\n",
    "            \"TD_Def_y\",\n",
    "            \"Sub_Avg_y\",\n",
    "            \"Stance_y_num\",\n",
    "        ]\n",
    "    ].iloc[0, :]\n",
    "    up_fighter_stats = pd.DataFrame(pd.concat([favorite, underdog])).T\n",
    "    return up_fighter_stats"
   ]
  },
  {
   "cell_type": "code",
   "execution_count": 31,
   "metadata": {},
   "outputs": [
    {
     "name": "stdin",
     "output_type": "stream",
     "text": [
      "Favorite's full name (e.g. Israel Adesanya):  Kamaru Usman\n",
      "Underdogs's full name:  Jorge Masvidal\n"
     ]
    }
   ],
   "source": [
    "up_fighter_stats = choose_fighters(final_df) #Usman vs. Masvidal"
   ]
  },
  {
   "cell_type": "code",
   "execution_count": 32,
   "metadata": {},
   "outputs": [
    {
     "name": "stdout",
     "output_type": "stream",
     "text": [
      "Favorite will win!\n"
     ]
    }
   ],
   "source": [
    "fight_prediction = clf_all.predict(up_fighter_stats)\n",
    "\n",
    "if fight_prediction[0] == 1:\n",
    "    print(\"Favorite will win!\")\n",
    "elif fight_prediction[0] == 0:\n",
    "    print(\"Underdog will win!\")\n",
    "else:\n",
    "    print(\"Draw Decision!\")"
   ]
  }
 ],
 "metadata": {
  "kernelspec": {
   "display_name": "Python 3",
   "language": "python",
   "name": "python3"
  },
  "language_info": {
   "codemirror_mode": {
    "name": "ipython",
    "version": 3
   },
   "file_extension": ".py",
   "mimetype": "text/x-python",
   "name": "python",
   "nbconvert_exporter": "python",
   "pygments_lexer": "ipython3",
   "version": "3.7.6"
  },
  "toc": {
   "base_numbering": 1,
   "nav_menu": {},
   "number_sections": true,
   "sideBar": true,
   "skip_h1_title": false,
   "title_cell": "Table of Contents",
   "title_sidebar": "Contents",
   "toc_cell": false,
   "toc_position": {},
   "toc_section_display": true,
   "toc_window_display": false
  }
 },
 "nbformat": 4,
 "nbformat_minor": 4
}