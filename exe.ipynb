{
 "cells": [
  {
   "cell_type": "markdown",
   "metadata": {},
   "source": [
    "---\n",
    "## Crawling UFC Data "
   ]
  },
  {
   "cell_type": "code",
   "execution_count": 1,
   "metadata": {},
   "outputs": [],
   "source": [
    "from src.data_crawler.crawler import StatsCrawler\n",
    "from src.data_crawler.crawler import FightsCrawler"
   ]
  },
  {
   "cell_type": "markdown",
   "metadata": {},
   "source": [
    "### Crawling Stats of all UFC Fighters"
   ]
  },
  {
   "cell_type": "code",
   "execution_count": 2,
   "metadata": {},
   "outputs": [],
   "source": [
    "stats = StatsCrawler()"
   ]
  },
  {
   "cell_type": "code",
   "execution_count": 3,
   "metadata": {},
   "outputs": [],
   "source": [
    "stats.crawl_stats()"
   ]
  },
  {
   "cell_type": "code",
   "execution_count": 4,
   "metadata": {},
   "outputs": [],
   "source": [
    "stats_df = stats.return_stats()\n",
    "stats_df.to_csv(\"src/data/stats_fighters.csv\")"
   ]
  },
  {
   "cell_type": "code",
   "execution_count": 5,
   "metadata": {},
   "outputs": [
    {
     "data": {
      "text/html": [
       "<div>\n",
       "<style scoped>\n",
       "    .dataframe tbody tr th:only-of-type {\n",
       "        vertical-align: middle;\n",
       "    }\n",
       "\n",
       "    .dataframe tbody tr th {\n",
       "        vertical-align: top;\n",
       "    }\n",
       "\n",
       "    .dataframe thead th {\n",
       "        text-align: right;\n",
       "    }\n",
       "</style>\n",
       "<table border=\"1\" class=\"dataframe\">\n",
       "  <thead>\n",
       "    <tr style=\"text-align: right;\">\n",
       "      <th></th>\n",
       "      <th>Name</th>\n",
       "      <th>Record</th>\n",
       "      <th>Wins</th>\n",
       "      <th>Losses</th>\n",
       "      <th>Draws</th>\n",
       "      <th>Height_cm</th>\n",
       "      <th>Weight_lbs</th>\n",
       "      <th>Reach_inch</th>\n",
       "      <th>Stance</th>\n",
       "      <th>Debut</th>\n",
       "      <th>SLpM</th>\n",
       "      <th>StrAcc</th>\n",
       "      <th>SApM</th>\n",
       "      <th>StrDef</th>\n",
       "      <th>TD_Avg</th>\n",
       "      <th>TD_Acc</th>\n",
       "      <th>TD_Def</th>\n",
       "      <th>Sub_Avg</th>\n",
       "    </tr>\n",
       "  </thead>\n",
       "  <tbody>\n",
       "    <tr>\n",
       "      <th>0</th>\n",
       "      <td>Brian Johnston</td>\n",
       "      <td>Record: 5-5-0</td>\n",
       "      <td>5.0</td>\n",
       "      <td>5.0</td>\n",
       "      <td>0.0</td>\n",
       "      <td>190.502317</td>\n",
       "      <td>230.0</td>\n",
       "      <td>NaN</td>\n",
       "      <td>Orthodox</td>\n",
       "      <td>NaN</td>\n",
       "      <td>0.00</td>\n",
       "      <td>0.00</td>\n",
       "      <td>0.00</td>\n",
       "      <td>0.00</td>\n",
       "      <td>0.00</td>\n",
       "      <td>0.00</td>\n",
       "      <td>0.00</td>\n",
       "      <td>0.0</td>\n",
       "    </tr>\n",
       "    <tr>\n",
       "      <th>1</th>\n",
       "      <td>Shamil Gamzatov</td>\n",
       "      <td>Record: 14-0-0</td>\n",
       "      <td>14.0</td>\n",
       "      <td>0.0</td>\n",
       "      <td>0.0</td>\n",
       "      <td>187.962286</td>\n",
       "      <td>205.0</td>\n",
       "      <td>76.0</td>\n",
       "      <td>Orthodox</td>\n",
       "      <td>1990.0</td>\n",
       "      <td>4.27</td>\n",
       "      <td>0.46</td>\n",
       "      <td>2.13</td>\n",
       "      <td>0.58</td>\n",
       "      <td>0.00</td>\n",
       "      <td>0.00</td>\n",
       "      <td>0.50</td>\n",
       "      <td>0.0</td>\n",
       "    </tr>\n",
       "    <tr>\n",
       "      <th>2</th>\n",
       "      <td>Mario Bautista</td>\n",
       "      <td>Record: 8-2-0</td>\n",
       "      <td>8.0</td>\n",
       "      <td>2.0</td>\n",
       "      <td>0.0</td>\n",
       "      <td>175.262131</td>\n",
       "      <td>135.0</td>\n",
       "      <td>69.0</td>\n",
       "      <td>Switch</td>\n",
       "      <td>1993.0</td>\n",
       "      <td>5.71</td>\n",
       "      <td>0.45</td>\n",
       "      <td>4.78</td>\n",
       "      <td>0.54</td>\n",
       "      <td>0.48</td>\n",
       "      <td>0.33</td>\n",
       "      <td>0.70</td>\n",
       "      <td>0.0</td>\n",
       "    </tr>\n",
       "    <tr>\n",
       "      <th>3</th>\n",
       "      <td>Ludovit Klein</td>\n",
       "      <td>Record: 17-2-0</td>\n",
       "      <td>17.0</td>\n",
       "      <td>2.0</td>\n",
       "      <td>0.0</td>\n",
       "      <td>170.182069</td>\n",
       "      <td>155.0</td>\n",
       "      <td>72.0</td>\n",
       "      <td>Southpaw</td>\n",
       "      <td>1995.0</td>\n",
       "      <td>7.11</td>\n",
       "      <td>0.69</td>\n",
       "      <td>3.16</td>\n",
       "      <td>0.42</td>\n",
       "      <td>0.00</td>\n",
       "      <td>0.00</td>\n",
       "      <td>0.00</td>\n",
       "      <td>0.0</td>\n",
       "    </tr>\n",
       "    <tr>\n",
       "      <th>4</th>\n",
       "      <td>Pat Benson</td>\n",
       "      <td>Record: 3-5-3</td>\n",
       "      <td>3.0</td>\n",
       "      <td>5.0</td>\n",
       "      <td>3.0</td>\n",
       "      <td>175.262131</td>\n",
       "      <td>155.0</td>\n",
       "      <td>NaN</td>\n",
       "      <td></td>\n",
       "      <td>NaN</td>\n",
       "      <td>0.00</td>\n",
       "      <td>0.00</td>\n",
       "      <td>0.00</td>\n",
       "      <td>0.00</td>\n",
       "      <td>0.00</td>\n",
       "      <td>0.00</td>\n",
       "      <td>0.00</td>\n",
       "      <td>0.0</td>\n",
       "    </tr>\n",
       "    <tr>\n",
       "      <th>...</th>\n",
       "      <td>...</td>\n",
       "      <td>...</td>\n",
       "      <td>...</td>\n",
       "      <td>...</td>\n",
       "      <td>...</td>\n",
       "      <td>...</td>\n",
       "      <td>...</td>\n",
       "      <td>...</td>\n",
       "      <td>...</td>\n",
       "      <td>...</td>\n",
       "      <td>...</td>\n",
       "      <td>...</td>\n",
       "      <td>...</td>\n",
       "      <td>...</td>\n",
       "      <td>...</td>\n",
       "      <td>...</td>\n",
       "      <td>...</td>\n",
       "      <td>...</td>\n",
       "    </tr>\n",
       "    <tr>\n",
       "      <th>2644</th>\n",
       "      <td>Kamuela Kirk</td>\n",
       "      <td>Record: 9-3-0</td>\n",
       "      <td>9.0</td>\n",
       "      <td>3.0</td>\n",
       "      <td>0.0</td>\n",
       "      <td>177.802162</td>\n",
       "      <td>145.0</td>\n",
       "      <td>75.0</td>\n",
       "      <td>Switch</td>\n",
       "      <td>1994.0</td>\n",
       "      <td>5.31</td>\n",
       "      <td>0.57</td>\n",
       "      <td>12.25</td>\n",
       "      <td>0.21</td>\n",
       "      <td>2.89</td>\n",
       "      <td>0.40</td>\n",
       "      <td>1.00</td>\n",
       "      <td>0.0</td>\n",
       "    </tr>\n",
       "    <tr>\n",
       "      <th>2645</th>\n",
       "      <td>Johny Hendricks</td>\n",
       "      <td>Record: 18-8-0</td>\n",
       "      <td>18.0</td>\n",
       "      <td>8.0</td>\n",
       "      <td>0.0</td>\n",
       "      <td>175.262131</td>\n",
       "      <td>185.0</td>\n",
       "      <td>69.0</td>\n",
       "      <td>Southpaw</td>\n",
       "      <td>1983.0</td>\n",
       "      <td>3.49</td>\n",
       "      <td>0.45</td>\n",
       "      <td>3.99</td>\n",
       "      <td>0.53</td>\n",
       "      <td>3.83</td>\n",
       "      <td>0.46</td>\n",
       "      <td>0.63</td>\n",
       "      <td>0.3</td>\n",
       "    </tr>\n",
       "    <tr>\n",
       "      <th>2646</th>\n",
       "      <td>Timur Valiev</td>\n",
       "      <td>Record: 17-2-0 (1 NC)</td>\n",
       "      <td>17.0</td>\n",
       "      <td>2.0</td>\n",
       "      <td>0.0</td>\n",
       "      <td>167.642039</td>\n",
       "      <td>145.0</td>\n",
       "      <td>67.0</td>\n",
       "      <td>Orthodox</td>\n",
       "      <td>1990.0</td>\n",
       "      <td>5.50</td>\n",
       "      <td>0.71</td>\n",
       "      <td>1.55</td>\n",
       "      <td>0.56</td>\n",
       "      <td>2.73</td>\n",
       "      <td>0.66</td>\n",
       "      <td>0.50</td>\n",
       "      <td>0.0</td>\n",
       "    </tr>\n",
       "    <tr>\n",
       "      <th>2647</th>\n",
       "      <td>Anthony Hamilton</td>\n",
       "      <td>Record: 15-9-0</td>\n",
       "      <td>15.0</td>\n",
       "      <td>9.0</td>\n",
       "      <td>0.0</td>\n",
       "      <td>195.582378</td>\n",
       "      <td>260.0</td>\n",
       "      <td>76.0</td>\n",
       "      <td>Orthodox</td>\n",
       "      <td>1980.0</td>\n",
       "      <td>3.91</td>\n",
       "      <td>0.65</td>\n",
       "      <td>3.02</td>\n",
       "      <td>0.45</td>\n",
       "      <td>2.62</td>\n",
       "      <td>0.42</td>\n",
       "      <td>0.78</td>\n",
       "      <td>0.0</td>\n",
       "    </tr>\n",
       "    <tr>\n",
       "      <th>2648</th>\n",
       "      <td>Kyosuke Sasaki</td>\n",
       "      <td>Record: 3-7-4</td>\n",
       "      <td>3.0</td>\n",
       "      <td>7.0</td>\n",
       "      <td>4.0</td>\n",
       "      <td>170.182069</td>\n",
       "      <td>183.0</td>\n",
       "      <td>NaN</td>\n",
       "      <td>Southpaw</td>\n",
       "      <td>NaN</td>\n",
       "      <td>0.33</td>\n",
       "      <td>0.45</td>\n",
       "      <td>0.93</td>\n",
       "      <td>0.46</td>\n",
       "      <td>0.00</td>\n",
       "      <td>0.00</td>\n",
       "      <td>0.00</td>\n",
       "      <td>0.0</td>\n",
       "    </tr>\n",
       "  </tbody>\n",
       "</table>\n",
       "<p>2649 rows × 18 columns</p>\n",
       "</div>"
      ],
      "text/plain": [
       "                  Name                 Record  Wins  Losses  Draws  \\\n",
       "0       Brian Johnston          Record: 5-5-0   5.0     5.0    0.0   \n",
       "1      Shamil Gamzatov         Record: 14-0-0  14.0     0.0    0.0   \n",
       "2       Mario Bautista          Record: 8-2-0   8.0     2.0    0.0   \n",
       "3        Ludovit Klein         Record: 17-2-0  17.0     2.0    0.0   \n",
       "4           Pat Benson          Record: 3-5-3   3.0     5.0    3.0   \n",
       "...                ...                    ...   ...     ...    ...   \n",
       "2644      Kamuela Kirk          Record: 9-3-0   9.0     3.0    0.0   \n",
       "2645   Johny Hendricks         Record: 18-8-0  18.0     8.0    0.0   \n",
       "2646      Timur Valiev  Record: 17-2-0 (1 NC)  17.0     2.0    0.0   \n",
       "2647  Anthony Hamilton         Record: 15-9-0  15.0     9.0    0.0   \n",
       "2648    Kyosuke Sasaki          Record: 3-7-4   3.0     7.0    4.0   \n",
       "\n",
       "       Height_cm  Weight_lbs  Reach_inch    Stance   Debut  SLpM  StrAcc  \\\n",
       "0     190.502317       230.0         NaN  Orthodox     NaN  0.00    0.00   \n",
       "1     187.962286       205.0        76.0  Orthodox  1990.0  4.27    0.46   \n",
       "2     175.262131       135.0        69.0    Switch  1993.0  5.71    0.45   \n",
       "3     170.182069       155.0        72.0  Southpaw  1995.0  7.11    0.69   \n",
       "4     175.262131       155.0         NaN               NaN  0.00    0.00   \n",
       "...          ...         ...         ...       ...     ...   ...     ...   \n",
       "2644  177.802162       145.0        75.0    Switch  1994.0  5.31    0.57   \n",
       "2645  175.262131       185.0        69.0  Southpaw  1983.0  3.49    0.45   \n",
       "2646  167.642039       145.0        67.0  Orthodox  1990.0  5.50    0.71   \n",
       "2647  195.582378       260.0        76.0  Orthodox  1980.0  3.91    0.65   \n",
       "2648  170.182069       183.0         NaN  Southpaw     NaN  0.33    0.45   \n",
       "\n",
       "       SApM  StrDef  TD_Avg  TD_Acc  TD_Def  Sub_Avg  \n",
       "0      0.00    0.00    0.00    0.00    0.00      0.0  \n",
       "1      2.13    0.58    0.00    0.00    0.50      0.0  \n",
       "2      4.78    0.54    0.48    0.33    0.70      0.0  \n",
       "3      3.16    0.42    0.00    0.00    0.00      0.0  \n",
       "4      0.00    0.00    0.00    0.00    0.00      0.0  \n",
       "...     ...     ...     ...     ...     ...      ...  \n",
       "2644  12.25    0.21    2.89    0.40    1.00      0.0  \n",
       "2645   3.99    0.53    3.83    0.46    0.63      0.3  \n",
       "2646   1.55    0.56    2.73    0.66    0.50      0.0  \n",
       "2647   3.02    0.45    2.62    0.42    0.78      0.0  \n",
       "2648   0.93    0.46    0.00    0.00    0.00      0.0  \n",
       "\n",
       "[2649 rows x 18 columns]"
      ]
     },
     "execution_count": 5,
     "metadata": {},
     "output_type": "execute_result"
    }
   ],
   "source": [
    "stats_df"
   ]
  },
  {
   "cell_type": "markdown",
   "metadata": {},
   "source": [
    "### Crawling Fights and corresponding results of all UFC Fighters"
   ]
  },
  {
   "cell_type": "code",
   "execution_count": 6,
   "metadata": {},
   "outputs": [],
   "source": [
    "fights = FightsCrawler()"
   ]
  },
  {
   "cell_type": "code",
   "execution_count": 7,
   "metadata": {},
   "outputs": [],
   "source": [
    "fights.crawl_fights()"
   ]
  },
  {
   "cell_type": "code",
   "execution_count": 8,
   "metadata": {},
   "outputs": [],
   "source": [
    "fights_df = fights.return_fights()\n",
    "fights_df.to_csv(\"src/data/fight_results.csv\")"
   ]
  },
  {
   "cell_type": "code",
   "execution_count": 9,
   "metadata": {
    "scrolled": true
   },
   "outputs": [
    {
     "data": {
      "text/html": [
       "<div>\n",
       "<style scoped>\n",
       "    .dataframe tbody tr th:only-of-type {\n",
       "        vertical-align: middle;\n",
       "    }\n",
       "\n",
       "    .dataframe tbody tr th {\n",
       "        vertical-align: top;\n",
       "    }\n",
       "\n",
       "    .dataframe thead th {\n",
       "        text-align: right;\n",
       "    }\n",
       "</style>\n",
       "<table border=\"1\" class=\"dataframe\">\n",
       "  <thead>\n",
       "    <tr style=\"text-align: right;\">\n",
       "      <th></th>\n",
       "      <th>Fighter</th>\n",
       "      <th>Opponent</th>\n",
       "      <th>Result</th>\n",
       "      <th>Fighters_Win</th>\n",
       "      <th>Opponents_Win</th>\n",
       "    </tr>\n",
       "  </thead>\n",
       "  <tbody>\n",
       "    <tr>\n",
       "      <th>0</th>\n",
       "      <td>Brian Johnston</td>\n",
       "      <td>Dan Bobish</td>\n",
       "      <td>loss</td>\n",
       "      <td>0</td>\n",
       "      <td>1</td>\n",
       "    </tr>\n",
       "    <tr>\n",
       "      <th>1</th>\n",
       "      <td>Brian Johnston</td>\n",
       "      <td>Ken Shamrock</td>\n",
       "      <td>loss</td>\n",
       "      <td>0</td>\n",
       "      <td>1</td>\n",
       "    </tr>\n",
       "    <tr>\n",
       "      <th>2</th>\n",
       "      <td>Brian Johnston</td>\n",
       "      <td>Mark Coleman</td>\n",
       "      <td>loss</td>\n",
       "      <td>0</td>\n",
       "      <td>1</td>\n",
       "    </tr>\n",
       "    <tr>\n",
       "      <th>3</th>\n",
       "      <td>Brian Johnston</td>\n",
       "      <td>Reza Nasri</td>\n",
       "      <td>win</td>\n",
       "      <td>1</td>\n",
       "      <td>0</td>\n",
       "    </tr>\n",
       "    <tr>\n",
       "      <th>4</th>\n",
       "      <td>Brian Johnston</td>\n",
       "      <td>Don Frye</td>\n",
       "      <td>loss</td>\n",
       "      <td>0</td>\n",
       "      <td>1</td>\n",
       "    </tr>\n",
       "    <tr>\n",
       "      <th>...</th>\n",
       "      <td>...</td>\n",
       "      <td>...</td>\n",
       "      <td>...</td>\n",
       "      <td>...</td>\n",
       "      <td>...</td>\n",
       "    </tr>\n",
       "    <tr>\n",
       "      <th>12045</th>\n",
       "      <td>Anthony Hamilton</td>\n",
       "      <td>Daniel Omielanczuk</td>\n",
       "      <td>win</td>\n",
       "      <td>1</td>\n",
       "      <td>0</td>\n",
       "    </tr>\n",
       "    <tr>\n",
       "      <th>12046</th>\n",
       "      <td>Anthony Hamilton</td>\n",
       "      <td>Todd Duffee</td>\n",
       "      <td>loss</td>\n",
       "      <td>0</td>\n",
       "      <td>1</td>\n",
       "    </tr>\n",
       "    <tr>\n",
       "      <th>12047</th>\n",
       "      <td>Anthony Hamilton</td>\n",
       "      <td>Ruan Potts</td>\n",
       "      <td>win</td>\n",
       "      <td>1</td>\n",
       "      <td>0</td>\n",
       "    </tr>\n",
       "    <tr>\n",
       "      <th>12048</th>\n",
       "      <td>Anthony Hamilton</td>\n",
       "      <td>Aleksei Oleinik</td>\n",
       "      <td>loss</td>\n",
       "      <td>0</td>\n",
       "      <td>1</td>\n",
       "    </tr>\n",
       "    <tr>\n",
       "      <th>12049</th>\n",
       "      <td>Kyosuke Sasaki</td>\n",
       "      <td>Eiji Mitsuoka</td>\n",
       "      <td>draw</td>\n",
       "      <td>1</td>\n",
       "      <td>1</td>\n",
       "    </tr>\n",
       "  </tbody>\n",
       "</table>\n",
       "<p>12050 rows × 5 columns</p>\n",
       "</div>"
      ],
      "text/plain": [
       "                Fighter            Opponent Result  Fighters_Win  \\\n",
       "0        Brian Johnston          Dan Bobish   loss             0   \n",
       "1        Brian Johnston        Ken Shamrock   loss             0   \n",
       "2        Brian Johnston        Mark Coleman   loss             0   \n",
       "3        Brian Johnston          Reza Nasri    win             1   \n",
       "4        Brian Johnston            Don Frye   loss             0   \n",
       "...                 ...                 ...    ...           ...   \n",
       "12045  Anthony Hamilton  Daniel Omielanczuk    win             1   \n",
       "12046  Anthony Hamilton         Todd Duffee   loss             0   \n",
       "12047  Anthony Hamilton          Ruan Potts    win             1   \n",
       "12048  Anthony Hamilton     Aleksei Oleinik   loss             0   \n",
       "12049    Kyosuke Sasaki       Eiji Mitsuoka   draw             1   \n",
       "\n",
       "       Opponents_Win  \n",
       "0                  1  \n",
       "1                  1  \n",
       "2                  1  \n",
       "3                  0  \n",
       "4                  1  \n",
       "...              ...  \n",
       "12045              0  \n",
       "12046              1  \n",
       "12047              0  \n",
       "12048              1  \n",
       "12049              1  \n",
       "\n",
       "[12050 rows x 5 columns]"
      ]
     },
     "execution_count": 9,
     "metadata": {},
     "output_type": "execute_result"
    }
   ],
   "source": [
    "fights_df"
   ]
  },
  {
   "cell_type": "markdown",
   "metadata": {},
   "source": [
    "### Merging and preparing data"
   ]
  },
  {
   "cell_type": "code",
   "execution_count": 1,
   "metadata": {},
   "outputs": [],
   "source": [
    "import pandas as pd"
   ]
  },
  {
   "cell_type": "code",
   "execution_count": 2,
   "metadata": {},
   "outputs": [],
   "source": [
    "stats_df = pd.read_csv(\"src/data/stats_fighters.csv\", index_col=0)\n",
    "fights_df = pd.read_csv(\"src/data/fight_results.csv\", index_col=0)"
   ]
  },
  {
   "cell_type": "code",
   "execution_count": 3,
   "metadata": {},
   "outputs": [],
   "source": [
    "stats_df_copy = stats_df.copy()\n",
    "fights_df_copy = fights_df.copy()\n",
    "\n",
    "stats_df_copy[\"Fighter\"] = stats_df_copy.Name"
   ]
  },
  {
   "cell_type": "code",
   "execution_count": 4,
   "metadata": {},
   "outputs": [],
   "source": [
    "pd.set_option(\"display.max_columns\", None)"
   ]
  },
  {
   "cell_type": "code",
   "execution_count": 5,
   "metadata": {},
   "outputs": [],
   "source": [
    "merged_df = pd.merge(fights_df_copy, stats_df_copy, on=[\"Fighter\"])"
   ]
  },
  {
   "cell_type": "code",
   "execution_count": 6,
   "metadata": {},
   "outputs": [],
   "source": [
    "stats_df_copy.drop(\"Fighter\", axis=1, inplace=True)\n",
    "stats_df_copy.rename(columns={\"Name\": \"Opponent\"}, inplace=True)\n",
    "merged_df.drop(\"Name\", axis=1, inplace=True)"
   ]
  },
  {
   "cell_type": "code",
   "execution_count": 7,
   "metadata": {},
   "outputs": [],
   "source": [
    "final_df = pd.merge(merged_df, stats_df_copy, on=[\"Opponent\"])\n",
    "final_df.drop([\"Record_x\", \"Record_y\"], axis=1, inplace=True)\n",
    "final_df.dropna(axis=0, inplace=True)"
   ]
  },
  {
   "cell_type": "code",
   "execution_count": 8,
   "metadata": {},
   "outputs": [],
   "source": [
    "def convert_stance(stance):\n",
    "\n",
    "    num_stance = []\n",
    "    for i in final_df.Stance_x:\n",
    "        if i == \"Southpaw\":\n",
    "            num_stance.append(0)\n",
    "        elif i == \"Orthodox\":\n",
    "            num_stance.append(1)\n",
    "        elif i == \"Switch\":\n",
    "            num_stance.append(2)\n",
    "        elif i == \"Open Stance\":\n",
    "            num_stance.append(3)\n",
    "        elif i == \"Sideways\":\n",
    "            num_stance.append(4)\n",
    "\n",
    "    return num_stance"
   ]
  },
  {
   "cell_type": "code",
   "execution_count": 9,
   "metadata": {},
   "outputs": [],
   "source": [
    "final_df[\"Stance_x_num\"] = convert_stance(final_df.Stance_x)\n",
    "final_df[\"Stance_y_num\"] = convert_stance(final_df.Stance_y)"
   ]
  },
  {
   "cell_type": "code",
   "execution_count": 10,
   "metadata": {},
   "outputs": [],
   "source": [
    "X = final_df[\n",
    "    [\n",
    "        \"Wins_x\",\n",
    "        \"Losses_x\",\n",
    "        \"Draws_x\",\n",
    "        \"Height_cm_x\",\n",
    "        \"Weight_lbs_x\",\n",
    "        \"Reach_inch_x\",\n",
    "        \"Debut_x\",\n",
    "        \"SLpM_x\",\n",
    "        \"StrAcc_x\",\n",
    "        \"SApM_x\",\n",
    "        \"StrDef_x\",\n",
    "        \"TD_Avg_x\",\n",
    "        \"TD_Acc_x\",\n",
    "        \"TD_Def_x\",\n",
    "        \"Sub_Avg_x\",\n",
    "        \"Stance_x_num\",\n",
    "        \"Wins_y\",\n",
    "        \"Losses_y\",\n",
    "        \"Draws_y\",\n",
    "        \"Height_cm_y\",\n",
    "        \"Weight_lbs_y\",\n",
    "        \"Reach_inch_y\",\n",
    "        \"Debut_y\",\n",
    "        \"SLpM_y\",\n",
    "        \"StrAcc_y\",\n",
    "        \"SApM_y\",\n",
    "        \"StrDef_y\",\n",
    "        \"TD_Avg_y\",\n",
    "        \"TD_Acc_y\",\n",
    "        \"TD_Def_y\",\n",
    "        \"Sub_Avg_y\",\n",
    "        \"Stance_y_num\",\n",
    "    ]\n",
    "]\n",
    "\n",
    "y = final_df[[\"Fighters_Win\"]]"
   ]
  },
  {
   "cell_type": "markdown",
   "metadata": {},
   "source": [
    "## Creating model and testing its accuracy"
   ]
  },
  {
   "cell_type": "code",
   "execution_count": 11,
   "metadata": {},
   "outputs": [],
   "source": [
    "from src.model.mlp_classifier import *\n",
    "from sklearn.metrics import classification_report"
   ]
  },
  {
   "cell_type": "code",
   "execution_count": 12,
   "metadata": {},
   "outputs": [],
   "source": [
    "X_stand = standardization(X)"
   ]
  },
  {
   "cell_type": "code",
   "execution_count": 13,
   "metadata": {},
   "outputs": [],
   "source": [
    "X_train, X_test, y_train, y_test = splitting_data(X_stand, y, testing_size=0.2, random_state=1)"
   ]
  },
  {
   "cell_type": "code",
   "execution_count": 14,
   "metadata": {},
   "outputs": [],
   "source": [
    "prediction = return_prediction(X_train, y_train, X_test, hidden_layer_sizes=(16, 10, 8))"
   ]
  },
  {
   "cell_type": "code",
   "execution_count": 15,
   "metadata": {},
   "outputs": [
    {
     "name": "stdout",
     "output_type": "stream",
     "text": [
      "              precision    recall  f1-score   support\n",
      "\n",
      "          -1       0.00      0.00      0.00        12\n",
      "           0       0.67      0.63      0.65       585\n",
      "           1       0.65      0.70      0.67       591\n",
      "\n",
      "    accuracy                           0.66      1188\n",
      "   macro avg       0.44      0.44      0.44      1188\n",
      "weighted avg       0.65      0.66      0.66      1188\n",
      "\n"
     ]
    },
    {
     "name": "stderr",
     "output_type": "stream",
     "text": [
      "/Users/a_ko3/opt/anaconda3/lib/python3.7/site-packages/sklearn/metrics/_classification.py:1221: UndefinedMetricWarning: Precision and F-score are ill-defined and being set to 0.0 in labels with no predicted samples. Use `zero_division` parameter to control this behavior.\n",
      "  _warn_prf(average, modifier, msg_start, len(result))\n"
     ]
    }
   ],
   "source": [
    "print(classification_report(y_test, prediction))"
   ]
  },
  {
   "cell_type": "markdown",
   "metadata": {},
   "source": [
    "## Predict upcoming Event UFC 261 Main Event"
   ]
  },
  {
   "cell_type": "code",
   "execution_count": 16,
   "metadata": {},
   "outputs": [
    {
     "name": "stdout",
     "output_type": "stream",
     "text": [
      "The favorite 'Leon Edwards' will win the fight!\n"
     ]
    }
   ],
   "source": [
    "# Predicting the fight between Leon Edwards and Nate Diaz\n",
    "who_wins_the_upcoming_fight(\n",
    "    favorite_name=\"Leon Edwards\", \n",
    "    underdog_name=\"Nate Diaz\",\n",
    "    stats_data=X_stand,\n",
    "    outcome=y,\n",
    "    names_data=final_df\n",
    ")"
   ]
  },
  {
   "cell_type": "code",
   "execution_count": 17,
   "metadata": {},
   "outputs": [],
   "source": [
    "# Some fights of UFC 261\n",
    "favorites_list = [\"Uriah Hall\", \"Kamaru Usman\"]  \n",
    "underdogs_list = [\"Chris Weidman\", \"Jorge Masvidal\"]"
   ]
  },
  {
   "cell_type": "code",
   "execution_count": 18,
   "metadata": {},
   "outputs": [],
   "source": [
    "def ufc_event(favorites_list, underdogs_list):\n",
    "    \n",
    "    assert len(favorites_list) == len(underdogs_list)\n",
    "    for f, u in zip(favorites_list, underdogs_list):\n",
    "        who_wins_the_upcoming_fight(\n",
    "            favorite_name=f,\n",
    "            underdog_name=u,\n",
    "            stats_data=X_stand,\n",
    "            outcome=y,\n",
    "            names_data=final_df,\n",
    "        )"
   ]
  },
  {
   "cell_type": "code",
   "execution_count": 19,
   "metadata": {},
   "outputs": [
    {
     "name": "stdout",
     "output_type": "stream",
     "text": [
      "The underdog 'Chris Weidman' will win the fight!\n",
      "The favorite 'Kamaru Usman' will win the fight!\n"
     ]
    }
   ],
   "source": [
    "ufc_event(favorites_list, underdogs_list)"
   ]
  },
  {
   "cell_type": "code",
   "execution_count": 20,
   "metadata": {},
   "outputs": [
    {
     "ename": "IndexError",
     "evalue": "Weili Zhang was dropped because of nan values!",
     "output_type": "error",
     "traceback": [
      "\u001b[0;31m---------------------------------------------------------------------------\u001b[0m",
      "\u001b[0;31mIndexError\u001b[0m                                Traceback (most recent call last)",
      "\u001b[0;32m<ipython-input-20-9c2b66d05de0>\u001b[0m in \u001b[0;36m<module>\u001b[0;34m\u001b[0m\n\u001b[1;32m      6\u001b[0m     \u001b[0mstats_data\u001b[0m\u001b[0;34m=\u001b[0m\u001b[0mX_stand\u001b[0m\u001b[0;34m,\u001b[0m\u001b[0;34m\u001b[0m\u001b[0;34m\u001b[0m\u001b[0m\n\u001b[1;32m      7\u001b[0m     \u001b[0moutcome\u001b[0m\u001b[0;34m=\u001b[0m\u001b[0my\u001b[0m\u001b[0;34m,\u001b[0m\u001b[0;34m\u001b[0m\u001b[0;34m\u001b[0m\u001b[0m\n\u001b[0;32m----> 8\u001b[0;31m     \u001b[0mnames_data\u001b[0m\u001b[0;34m=\u001b[0m\u001b[0mfinal_df\u001b[0m\u001b[0;34m,\u001b[0m\u001b[0;34m\u001b[0m\u001b[0;34m\u001b[0m\u001b[0m\n\u001b[0m\u001b[1;32m      9\u001b[0m )\n",
      "\u001b[0;32m~/Desktop/Python/MMABetBot/ufc-bet-bot/src/model/mlp_classifier.py\u001b[0m in \u001b[0;36mwho_wins_the_upcoming_fight\u001b[0;34m(favorite_name, underdog_name, stats_data, outcome, names_data)\u001b[0m\n\u001b[1;32m    106\u001b[0m \u001b[0;34m\u001b[0m\u001b[0m\n\u001b[1;32m    107\u001b[0m     \u001b[0;32mif\u001b[0m \u001b[0mfavorite_name\u001b[0m \u001b[0;32mnot\u001b[0m \u001b[0;32min\u001b[0m \u001b[0mpred_df\u001b[0m\u001b[0;34m[\u001b[0m\u001b[0;34m\"Fighter\"\u001b[0m\u001b[0;34m]\u001b[0m\u001b[0;34m.\u001b[0m\u001b[0mto_list\u001b[0m\u001b[0;34m(\u001b[0m\u001b[0;34m)\u001b[0m\u001b[0;34m:\u001b[0m\u001b[0;34m\u001b[0m\u001b[0;34m\u001b[0m\u001b[0m\n\u001b[0;32m--> 108\u001b[0;31m         \u001b[0;32mraise\u001b[0m \u001b[0mIndexError\u001b[0m\u001b[0;34m(\u001b[0m\u001b[0;34mf\"{favorite_name} was dropped because of nan values!\"\u001b[0m\u001b[0;34m)\u001b[0m\u001b[0;34m\u001b[0m\u001b[0;34m\u001b[0m\u001b[0m\n\u001b[0m\u001b[1;32m    109\u001b[0m     \u001b[0;32mif\u001b[0m \u001b[0munderdog_name\u001b[0m \u001b[0;32mnot\u001b[0m \u001b[0;32min\u001b[0m \u001b[0mpred_df\u001b[0m\u001b[0;34m[\u001b[0m\u001b[0;34m\"Opponent\"\u001b[0m\u001b[0;34m]\u001b[0m\u001b[0;34m.\u001b[0m\u001b[0mto_list\u001b[0m\u001b[0;34m(\u001b[0m\u001b[0;34m)\u001b[0m\u001b[0;34m:\u001b[0m\u001b[0;34m\u001b[0m\u001b[0;34m\u001b[0m\u001b[0m\n\u001b[1;32m    110\u001b[0m         \u001b[0;32mraise\u001b[0m \u001b[0mIndexError\u001b[0m\u001b[0;34m(\u001b[0m\u001b[0;34mf\"{underdog_name} was dropped because of nan values!\"\u001b[0m\u001b[0;34m)\u001b[0m\u001b[0;34m\u001b[0m\u001b[0;34m\u001b[0m\u001b[0m\n",
      "\u001b[0;31mIndexError\u001b[0m: Weili Zhang was dropped because of nan values!"
     ]
    }
   ],
   "source": [
    "# If one fighter is not included in the data set because of nan values,\n",
    "# the following error occurs => dropped and not useable \n",
    "who_wins_the_upcoming_fight(\n",
    "    favorite_name=\"Weili Zhang\",\n",
    "    underdog_name=\"Rose Namajunas\",\n",
    "    stats_data=X_stand,\n",
    "    outcome=y,\n",
    "    names_data=final_df,\n",
    ")"
   ]
  }
 ],
 "metadata": {
  "kernelspec": {
   "display_name": "Python 3",
   "language": "python",
   "name": "python3"
  },
  "language_info": {
   "codemirror_mode": {
    "name": "ipython",
    "version": 3
   },
   "file_extension": ".py",
   "mimetype": "text/x-python",
   "name": "python",
   "nbconvert_exporter": "python",
   "pygments_lexer": "ipython3",
   "version": "3.7.6"
  },
  "toc": {
   "base_numbering": 1,
   "nav_menu": {},
   "number_sections": true,
   "sideBar": true,
   "skip_h1_title": false,
   "title_cell": "Table of Contents",
   "title_sidebar": "Contents",
   "toc_cell": false,
   "toc_position": {},
   "toc_section_display": true,
   "toc_window_display": false
  }
 },
 "nbformat": 4,
 "nbformat_minor": 4
}
